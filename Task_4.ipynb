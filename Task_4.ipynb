{
 "cells": [
  {
   "cell_type": "markdown",
   "metadata": {},
   "source": [
    "###### Assessment"
   ]
  },
  {
   "cell_type": "markdown",
   "metadata": {},
   "source": [
    "###### I am going to provide two .csv files , you are supposed to work on them and have to provide solutions to the following problems"
   ]
  },
  {
   "cell_type": "markdown",
   "metadata": {},
   "source": [
    "###### import necessary libraries"
   ]
  },
  {
   "cell_type": "code",
   "execution_count": 1,
   "metadata": {},
   "outputs": [],
   "source": [
    "import numpy as np\n",
    "import pandas as pd\n",
    "import matplotlib.pyplot as plt"
   ]
  },
  {
   "cell_type": "markdown",
   "metadata": {},
   "source": [
    "###### merge those two csv files (after getting as dataframes, get them as a single dataframe)"
   ]
  },
  {
   "cell_type": "code",
   "execution_count": 2,
   "metadata": {},
   "outputs": [
    {
     "data": {
      "text/html": [
       "<div>\n",
       "<style scoped>\n",
       "    .dataframe tbody tr th:only-of-type {\n",
       "        vertical-align: middle;\n",
       "    }\n",
       "\n",
       "    .dataframe tbody tr th {\n",
       "        vertical-align: top;\n",
       "    }\n",
       "\n",
       "    .dataframe thead th {\n",
       "        text-align: right;\n",
       "    }\n",
       "</style>\n",
       "<table border=\"1\" class=\"dataframe\">\n",
       "  <thead>\n",
       "    <tr style=\"text-align: right;\">\n",
       "      <th></th>\n",
       "      <th>Name</th>\n",
       "      <th>python</th>\n",
       "      <th>mysql</th>\n",
       "      <th>Previous Geekions</th>\n",
       "      <th>CodeKata Score</th>\n",
       "      <th>Department</th>\n",
       "      <th>Rising</th>\n",
       "      <th>python_en</th>\n",
       "      <th>computational_thinking</th>\n",
       "    </tr>\n",
       "  </thead>\n",
       "  <tbody>\n",
       "    <tr>\n",
       "      <th>0</th>\n",
       "      <td>A.Dharani</td>\n",
       "      <td>82.0</td>\n",
       "      <td>20.0</td>\n",
       "      <td>24500</td>\n",
       "      <td>24500</td>\n",
       "      <td>Computer Science and Engineering</td>\n",
       "      <td>0</td>\n",
       "      <td>NaN</td>\n",
       "      <td>NaN</td>\n",
       "    </tr>\n",
       "    <tr>\n",
       "      <th>1</th>\n",
       "      <td>V.JEEVITHA</td>\n",
       "      <td>82.0</td>\n",
       "      <td>20.0</td>\n",
       "      <td>21740</td>\n",
       "      <td>21740</td>\n",
       "      <td>Computer Science and Engineering</td>\n",
       "      <td>0</td>\n",
       "      <td>NaN</td>\n",
       "      <td>NaN</td>\n",
       "    </tr>\n",
       "    <tr>\n",
       "      <th>2</th>\n",
       "      <td>HEMAVATHI.R</td>\n",
       "      <td>100.0</td>\n",
       "      <td>100.0</td>\n",
       "      <td>19680</td>\n",
       "      <td>19680</td>\n",
       "      <td>Computer Science and Engineering</td>\n",
       "      <td>0</td>\n",
       "      <td>NaN</td>\n",
       "      <td>NaN</td>\n",
       "    </tr>\n",
       "    <tr>\n",
       "      <th>3</th>\n",
       "      <td>Mugunthan S</td>\n",
       "      <td>100.0</td>\n",
       "      <td>47.0</td>\n",
       "      <td>10610</td>\n",
       "      <td>10610</td>\n",
       "      <td>Computer Science and Engineering</td>\n",
       "      <td>0</td>\n",
       "      <td>NaN</td>\n",
       "      <td>NaN</td>\n",
       "    </tr>\n",
       "    <tr>\n",
       "      <th>4</th>\n",
       "      <td>Sathammai.S</td>\n",
       "      <td>100.0</td>\n",
       "      <td>8.0</td>\n",
       "      <td>8980</td>\n",
       "      <td>8980</td>\n",
       "      <td>Computer Science and Engineering</td>\n",
       "      <td>0</td>\n",
       "      <td>NaN</td>\n",
       "      <td>NaN</td>\n",
       "    </tr>\n",
       "    <tr>\n",
       "      <th>...</th>\n",
       "      <td>...</td>\n",
       "      <td>...</td>\n",
       "      <td>...</td>\n",
       "      <td>...</td>\n",
       "      <td>...</td>\n",
       "      <td>...</td>\n",
       "      <td>...</td>\n",
       "      <td>...</td>\n",
       "      <td>...</td>\n",
       "    </tr>\n",
       "    <tr>\n",
       "      <th>30</th>\n",
       "      <td>praveen raj j</td>\n",
       "      <td>24.0</td>\n",
       "      <td>0.0</td>\n",
       "      <td>2380</td>\n",
       "      <td>2380</td>\n",
       "      <td>Computer Science and Engineering</td>\n",
       "      <td>0</td>\n",
       "      <td>-1.0</td>\n",
       "      <td>0.0</td>\n",
       "    </tr>\n",
       "    <tr>\n",
       "      <th>31</th>\n",
       "      <td>AMARNATH D</td>\n",
       "      <td>-1.0</td>\n",
       "      <td>12.0</td>\n",
       "      <td>1890</td>\n",
       "      <td>1890</td>\n",
       "      <td>Electronics and Communication Engineering</td>\n",
       "      <td>0</td>\n",
       "      <td>52.0</td>\n",
       "      <td>-1.0</td>\n",
       "    </tr>\n",
       "    <tr>\n",
       "      <th>32</th>\n",
       "      <td>bala</td>\n",
       "      <td>32.0</td>\n",
       "      <td>0.0</td>\n",
       "      <td>1720</td>\n",
       "      <td>1720</td>\n",
       "      <td>Electronics and Communication Engineering</td>\n",
       "      <td>0</td>\n",
       "      <td>49.0</td>\n",
       "      <td>-1.0</td>\n",
       "    </tr>\n",
       "    <tr>\n",
       "      <th>33</th>\n",
       "      <td>XY Z</td>\n",
       "      <td>-1.0</td>\n",
       "      <td>-1.0</td>\n",
       "      <td>0</td>\n",
       "      <td>0</td>\n",
       "      <td>Computer Science and Engineering</td>\n",
       "      <td>0</td>\n",
       "      <td>20.0</td>\n",
       "      <td>-1.0</td>\n",
       "    </tr>\n",
       "    <tr>\n",
       "      <th>34</th>\n",
       "      <td>Hariharan</td>\n",
       "      <td>-1.0</td>\n",
       "      <td>-1.0</td>\n",
       "      <td>0</td>\n",
       "      <td>0</td>\n",
       "      <td>Computer Science and Engineering</td>\n",
       "      <td>0</td>\n",
       "      <td>-1.0</td>\n",
       "      <td>0.0</td>\n",
       "    </tr>\n",
       "  </tbody>\n",
       "</table>\n",
       "<p>119 rows × 9 columns</p>\n",
       "</div>"
      ],
      "text/plain": [
       "             Name  python  mysql  Previous Geekions  CodeKata Score  \\\n",
       "0       A.Dharani    82.0   20.0              24500           24500   \n",
       "1     V.JEEVITHA     82.0   20.0              21740           21740   \n",
       "2     HEMAVATHI.R   100.0  100.0              19680           19680   \n",
       "3     Mugunthan S   100.0   47.0              10610           10610   \n",
       "4     Sathammai.S   100.0    8.0               8980            8980   \n",
       "..            ...     ...    ...                ...             ...   \n",
       "30  praveen raj j    24.0    0.0               2380            2380   \n",
       "31     AMARNATH D    -1.0   12.0               1890            1890   \n",
       "32           bala    32.0    0.0               1720            1720   \n",
       "33           XY Z    -1.0   -1.0                  0               0   \n",
       "34      Hariharan    -1.0   -1.0                  0               0   \n",
       "\n",
       "                                   Department  Rising  python_en  \\\n",
       "0            Computer Science and Engineering       0        NaN   \n",
       "1            Computer Science and Engineering       0        NaN   \n",
       "2            Computer Science and Engineering       0        NaN   \n",
       "3            Computer Science and Engineering       0        NaN   \n",
       "4            Computer Science and Engineering       0        NaN   \n",
       "..                                        ...     ...        ...   \n",
       "30           Computer Science and Engineering       0       -1.0   \n",
       "31  Electronics and Communication Engineering       0       52.0   \n",
       "32  Electronics and Communication Engineering       0       49.0   \n",
       "33           Computer Science and Engineering       0       20.0   \n",
       "34           Computer Science and Engineering       0       -1.0   \n",
       "\n",
       "    computational_thinking  \n",
       "0                      NaN  \n",
       "1                      NaN  \n",
       "2                      NaN  \n",
       "3                      NaN  \n",
       "4                      NaN  \n",
       "..                     ...  \n",
       "30                     0.0  \n",
       "31                    -1.0  \n",
       "32                    -1.0  \n",
       "33                    -1.0  \n",
       "34                     0.0  \n",
       "\n",
       "[119 rows x 9 columns]"
      ]
     },
     "execution_count": 2,
     "metadata": {},
     "output_type": "execute_result"
    }
   ],
   "source": [
    "college_1 = pd.read_csv(\"college_1.csv\")\n",
    "college_2 = pd.read_csv(\"college_2.csv\")\n",
    "\n",
    "data = pd.concat([college_1, college_2])\n",
    "data"
   ]
  },
  {
   "cell_type": "markdown",
   "metadata": {},
   "source": [
    "###### Take each csv file , split that csv file into multiple categories (example csv files are added in the repo) \n"
   ]
  },
  {
   "cell_type": "markdown",
   "metadata": {},
   "source": [
    "###### consider if the codekata score exceeds 15000 points(present week) then make a csv on those observations as Exceeded expectations.csv\n"
   ]
  },
  {
   "cell_type": "markdown",
   "metadata": {},
   "source": [
    "###### if  10000<codekata score<15000   (Reached_expectations.csv)\n",
    "\n"
   ]
  },
  {
   "cell_type": "markdown",
   "metadata": {},
   "source": [
    "###### if  7000<codekata score<10000   (Needs_Improvement.csv)\n"
   ]
  },
  {
   "cell_type": "markdown",
   "metadata": {},
   "source": [
    "###### if  codekate score < 7000        (Unsatisfactory.csv)"
   ]
  },
  {
   "cell_type": "code",
   "execution_count": 3,
   "metadata": {},
   "outputs": [],
   "source": [
    "data.loc[data[\"CodeKata Score\"] > 15000].to_csv(\"Exceeded expectations.csv\")\n",
    "data.loc[(data[\"CodeKata Score\"] > 10000) & (data[\"CodeKata Score\"] < 15000)].to_csv(\"Reached_expectations.csv\")\n",
    "data.loc[(data[\"CodeKata Score\"] > 7000) & (data[\"CodeKata Score\"] < 10000)].to_csv(\"Needs Improvement.csv\")\n",
    "data.loc[data[\"CodeKata Score\"] < 7000].to_csv(\"Unsatisfactory.csv\")"
   ]
  },
  {
   "cell_type": "markdown",
   "metadata": {},
   "source": [
    "###### Average of previous week geekions vs this week geekions (i.e Previous Geekions vs CodeKata Score)"
   ]
  },
  {
   "cell_type": "code",
   "execution_count": 5,
   "metadata": {},
   "outputs": [
    {
     "name": "stdout",
     "output_type": "stream",
     "text": [
      "Average of Previous Geekions:  3842.3529411764707\n",
      "Average of CodeKata Score:  4051.764705882353\n"
     ]
    }
   ],
   "source": [
    "print(\"Average of Previous Geekions: \", data[\"Previous Geekions\"].mean())\n",
    "print(\"Average of CodeKata Score: \", data[\"CodeKata Score\"].mean())"
   ]
  },
  {
   "cell_type": "markdown",
   "metadata": {},
   "source": [
    "###### No of students participated "
   ]
  },
  {
   "cell_type": "code",
   "execution_count": 6,
   "metadata": {},
   "outputs": [
    {
     "name": "stdout",
     "output_type": "stream",
     "text": [
      "Total Number of Students :  119\n"
     ]
    }
   ],
   "source": [
    "print(\"Total Number of Students : \", data[data.columns[0]].count())\n"
   ]
  },
  {
   "cell_type": "markdown",
   "metadata": {},
   "source": [
    "###### #Average completion of python course or my_sql or python english or computational thinking"
   ]
  },
  {
   "cell_type": "code",
   "execution_count": 7,
   "metadata": {},
   "outputs": [
    {
     "name": "stdout",
     "output_type": "stream",
     "text": [
      "Python Completion Average:  54.35294117647059\n"
     ]
    }
   ],
   "source": [
    "print(\"Python Completion Average: \", data[\"python\"].mean())"
   ]
  },
  {
   "cell_type": "markdown",
   "metadata": {},
   "source": [
    "###### rising star of the week (top 3 candidate who performed well in that particular week)"
   ]
  },
  {
   "cell_type": "code",
   "execution_count": 8,
   "metadata": {},
   "outputs": [
    {
     "data": {
      "text/plain": [
       "0          A.Dharani\n",
       "73    rajesh kumar.r\n",
       "71       m.keerthana\n",
       "Name: Name, dtype: object"
      ]
     },
     "execution_count": 8,
     "metadata": {},
     "output_type": "execute_result"
    }
   ],
   "source": [
    "data = data.assign(student_perfomance = data[\"Previous Geekions\"] - data[\"CodeKata Score\"])\n",
    "data.sort_values(by = \"student_perfomance\", ascending=False).head(3)[\"Name\"]"
   ]
  },
  {
   "cell_type": "markdown",
   "metadata": {},
   "source": [
    "###### Shining stars of the week (top 3 candidates who has highest geekions)"
   ]
  },
  {
   "cell_type": "code",
   "execution_count": 9,
   "metadata": {},
   "outputs": [
    {
     "data": {
      "text/plain": [
       "0      A.Dharani\n",
       "1    V.JEEVITHA \n",
       "2    HEMAVATHI.R\n",
       "Name: Name, dtype: object"
      ]
     },
     "execution_count": 9,
     "metadata": {},
     "output_type": "execute_result"
    }
   ],
   "source": [
    "data.nlargest(3, \"CodeKata Score\")[\"Name\"]"
   ]
  },
  {
   "cell_type": "markdown",
   "metadata": {},
   "source": [
    "###### Department wise codekata performence (pie chart)"
   ]
  },
  {
   "cell_type": "code",
   "execution_count": 10,
   "metadata": {},
   "outputs": [
    {
     "data": {
      "image/png": "[encoded data removed]",
      "text/plain": [
       "<Figure size 432x288 with 1 Axes>"
      ]
     },
     "metadata": {},
     "output_type": "display_data"
    }
   ],
   "source": [
    "plt.pie(np.array(data.groupby(by = \"Department\")[\"CodeKata Score\"].mean()), labels = [\"Computer Science and Engineering\", \"Electronics and Communication Engineering\", \"Electronics and Electrical Engineering\"])\n",
    "plt.show()"
   ]
  },
  {
   "cell_type": "markdown",
   "metadata": {},
   "source": [
    "###### Department wise toppers (horizantal bar graph or any visual representations of your choice)"
   ]
  },
  {
   "cell_type": "code",
   "execution_count": 11,
   "metadata": {},
   "outputs": [
    {
     "data": {
      "image/png": "[encoded data removed]",
      "text/plain": [
       "<Figure size 432x288 with 1 Axes>"
      ]
     },
     "metadata": {
      "needs_background": "light"
     },
     "output_type": "display_data"
    }
   ],
   "source": [
    "dpt_performers = {}\n",
    "\n",
    "computer = data.loc[data[\"Department\"] == \"Computer Science and Engineering\"]\n",
    "dpt_performers[computer.nlargest(1, \"CodeKata Score\")[\"Name\"].to_string(index = False)+ \" - CSC\"] = computer[\"CodeKata Score\"].max()\n",
    "\n",
    "ece = data.loc[data[\"Department\"] == \"Electronics and Communication Engineering\"]\n",
    "dpt_performers[ece.nlargest(1, \"CodeKata Score\")[\"Name\"].to_string(index = False) + \" - ECE\"] = ece[\"CodeKata Score\"].max()\n",
    "\n",
    "eee = data.loc[data[\"Department\"] == \"Electronics and Electrical Engineering\"]\n",
    "dpt_performers[eee.nlargest(1, \"CodeKata Score\")[\"Name\"].to_string(index = False)+ \" - EEE\"] = eee[\"CodeKata Score\"].max()\n",
    "\n",
    "names = list(dpt_performers.keys())\n",
    "scores = list(dpt_performers.values())\n",
    "\n",
    "plt.bar(names, scores, tick_label=names)\n",
    "plt.xlabel(\"Name of Student\")\n",
    "plt.ylabel(\"Codekata Score\")\n",
    "plt.show()"
   ]
  },
  {
   "cell_type": "code",
   "execution_count": null,
   "metadata": {},
   "outputs": [],
   "source": []
  },
  {
   "cell_type": "code",
   "execution_count": null,
   "metadata": {},
   "outputs": [],
   "source": []
  },
  {
   "cell_type": "code",
   "execution_count": null,
   "metadata": {},
   "outputs": [],
   "source": []
  }
 ],
 "metadata": {
  "kernelspec": {
   "display_name": "Python 3",
   "language": "python",
   "name": "python3"
  },
  "language_info": {
   "codemirror_mode": {
    "name": "ipython",
    "version": 3
   },
   "file_extension": ".py",
   "mimetype": "text/x-python",
   "name": "python",
   "nbconvert_exporter": "python",
   "pygments_lexer": "ipython3",
   "version": "3.8.8"
  }
 },
 "nbformat": 4,
 "nbformat_minor": 2
}
